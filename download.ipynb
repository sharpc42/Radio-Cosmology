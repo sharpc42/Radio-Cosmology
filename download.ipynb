{
  "nbformat": 4,
  "nbformat_minor": 0,
  "metadata": {
    "colab": {
      "provenance": []
    },
    "kernelspec": {
      "name": "python3",
      "display_name": "Python 3"
    },
    "language_info": {
      "name": "python"
    }
  },
  "cells": [
    {
      "cell_type": "code",
      "execution_count": 1,
      "metadata": {
        "id": "k_wHDlyUvMFu",
        "outputId": "1ec4c6f9-57a2-4fa0-88f4-69ec8e522e23",
        "colab": {
          "base_uri": "https://localhost:8080/"
        }
      },
      "outputs": [
        {
          "output_type": "stream",
          "name": "stdout",
          "text": [
            "Testy McTest Test\n"
          ]
        }
      ],
      "source": [
        "print(\"Testy McTest Test\")"
      ]
    },
    {
      "cell_type": "code",
      "source": [],
      "metadata": {
        "id": "5gEPhT33vOSO"
      },
      "execution_count": null,
      "outputs": []
    },
    {
      "cell_type": "code",
      "source": [],
      "metadata": {
        "id": "HRKsHafkvPNZ"
      },
      "execution_count": null,
      "outputs": []
    }
  ]
}